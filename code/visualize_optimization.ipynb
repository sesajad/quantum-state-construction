{
 "cells": [
  {
   "cell_type": "markdown",
   "metadata": {},
   "source": [
    "# Visualize the Optimization Process"
   ]
  },
  {
   "cell_type": "code",
   "execution_count": 1,
   "metadata": {
    "scrolled": true
   },
   "outputs": [
    {
     "name": "stderr",
     "output_type": "stream",
     "text": [
      "/home/grizzly/Works/University/QC Research/quantum-state-construction/code/venv/lib/python3.7/site-packages/tensorflow/python/framework/dtypes.py:516: FutureWarning: Passing (type, 1) or '1type' as a synonym of type is deprecated; in a future version of numpy, it will be understood as (type, (1,)) / '(1,)type'.\n",
      "  _np_qint8 = np.dtype([(\"qint8\", np.int8, 1)])\n",
      "/home/grizzly/Works/University/QC Research/quantum-state-construction/code/venv/lib/python3.7/site-packages/tensorflow/python/framework/dtypes.py:517: FutureWarning: Passing (type, 1) or '1type' as a synonym of type is deprecated; in a future version of numpy, it will be understood as (type, (1,)) / '(1,)type'.\n",
      "  _np_quint8 = np.dtype([(\"quint8\", np.uint8, 1)])\n",
      "/home/grizzly/Works/University/QC Research/quantum-state-construction/code/venv/lib/python3.7/site-packages/tensorflow/python/framework/dtypes.py:518: FutureWarning: Passing (type, 1) or '1type' as a synonym of type is deprecated; in a future version of numpy, it will be understood as (type, (1,)) / '(1,)type'.\n",
      "  _np_qint16 = np.dtype([(\"qint16\", np.int16, 1)])\n",
      "/home/grizzly/Works/University/QC Research/quantum-state-construction/code/venv/lib/python3.7/site-packages/tensorflow/python/framework/dtypes.py:519: FutureWarning: Passing (type, 1) or '1type' as a synonym of type is deprecated; in a future version of numpy, it will be understood as (type, (1,)) / '(1,)type'.\n",
      "  _np_quint16 = np.dtype([(\"quint16\", np.uint16, 1)])\n",
      "/home/grizzly/Works/University/QC Research/quantum-state-construction/code/venv/lib/python3.7/site-packages/tensorflow/python/framework/dtypes.py:520: FutureWarning: Passing (type, 1) or '1type' as a synonym of type is deprecated; in a future version of numpy, it will be understood as (type, (1,)) / '(1,)type'.\n",
      "  _np_qint32 = np.dtype([(\"qint32\", np.int32, 1)])\n",
      "/home/grizzly/Works/University/QC Research/quantum-state-construction/code/venv/lib/python3.7/site-packages/tensorflow/python/framework/dtypes.py:525: FutureWarning: Passing (type, 1) or '1type' as a synonym of type is deprecated; in a future version of numpy, it will be understood as (type, (1,)) / '(1,)type'.\n",
      "  np_resource = np.dtype([(\"resource\", np.ubyte, 1)])\n",
      "/home/grizzly/Works/University/QC Research/quantum-state-construction/code/venv/lib/python3.7/site-packages/tensorboard/compat/tensorflow_stub/dtypes.py:541: FutureWarning: Passing (type, 1) or '1type' as a synonym of type is deprecated; in a future version of numpy, it will be understood as (type, (1,)) / '(1,)type'.\n",
      "  _np_qint8 = np.dtype([(\"qint8\", np.int8, 1)])\n",
      "/home/grizzly/Works/University/QC Research/quantum-state-construction/code/venv/lib/python3.7/site-packages/tensorboard/compat/tensorflow_stub/dtypes.py:542: FutureWarning: Passing (type, 1) or '1type' as a synonym of type is deprecated; in a future version of numpy, it will be understood as (type, (1,)) / '(1,)type'.\n",
      "  _np_quint8 = np.dtype([(\"quint8\", np.uint8, 1)])\n",
      "/home/grizzly/Works/University/QC Research/quantum-state-construction/code/venv/lib/python3.7/site-packages/tensorboard/compat/tensorflow_stub/dtypes.py:543: FutureWarning: Passing (type, 1) or '1type' as a synonym of type is deprecated; in a future version of numpy, it will be understood as (type, (1,)) / '(1,)type'.\n",
      "  _np_qint16 = np.dtype([(\"qint16\", np.int16, 1)])\n",
      "/home/grizzly/Works/University/QC Research/quantum-state-construction/code/venv/lib/python3.7/site-packages/tensorboard/compat/tensorflow_stub/dtypes.py:544: FutureWarning: Passing (type, 1) or '1type' as a synonym of type is deprecated; in a future version of numpy, it will be understood as (type, (1,)) / '(1,)type'.\n",
      "  _np_quint16 = np.dtype([(\"quint16\", np.uint16, 1)])\n",
      "/home/grizzly/Works/University/QC Research/quantum-state-construction/code/venv/lib/python3.7/site-packages/tensorboard/compat/tensorflow_stub/dtypes.py:545: FutureWarning: Passing (type, 1) or '1type' as a synonym of type is deprecated; in a future version of numpy, it will be understood as (type, (1,)) / '(1,)type'.\n",
      "  _np_qint32 = np.dtype([(\"qint32\", np.int32, 1)])\n",
      "/home/grizzly/Works/University/QC Research/quantum-state-construction/code/venv/lib/python3.7/site-packages/tensorboard/compat/tensorflow_stub/dtypes.py:550: FutureWarning: Passing (type, 1) or '1type' as a synonym of type is deprecated; in a future version of numpy, it will be understood as (type, (1,)) / '(1,)type'.\n",
      "  np_resource = np.dtype([(\"resource\", np.ubyte, 1)])\n"
     ]
    }
   ],
   "source": [
    "from datetime import datetime\n",
    "import itertools\n",
    "import io\n",
    "\n",
    "import numpy as np\n",
    "import scipy.sparse as sp\n",
    "import scipy as sc\n",
    "import tensorflow as tf\n",
    "\n",
    "from tqdm import tqdm_notebook as tqdm\n",
    "import matplotlib.pyplot as plt"
   ]
  },
  {
   "cell_type": "code",
   "execution_count": 13,
   "metadata": {},
   "outputs": [],
   "source": [
    "dim = 4"
   ]
  },
  {
   "cell_type": "code",
   "execution_count": 14,
   "metadata": {},
   "outputs": [],
   "source": [
    "STOP = 0.95"
   ]
  },
  {
   "cell_type": "code",
   "execution_count": 15,
   "metadata": {},
   "outputs": [],
   "source": [
    "class GradientNorm(tf.train.Optimizer):\n",
    "    def __init__(self, learning_rate=0.1, use_locking=False, name=\"GradientNorm\"):\n",
    "        super().__init__(use_locking, name)\n",
    "        self._lr = learning_rate\n",
    "        \n",
    "        # Tensor versions of the constructor arguments, created in _prepare().\n",
    "        self._lr_t = None\n",
    "\n",
    "    def _prepare(self):\n",
    "        self._lr_t = tf.convert_to_tensor(self._lr, name=\"learning_rate\")\n",
    "\n",
    "    def _apply_dense(self, grad, var):\n",
    "        lr_t = tf.cast(self._lr_t, var.dtype.base_dtype)\n",
    "        var_update = tf.assign_sub(var, lr_t * grad / tf.norm(grad))\n",
    "        \n",
    "        return tf.group(*[var_update])\n",
    "\n",
    "    def _apply_sparse(self, grad, var):\n",
    "        raise NotImplementedError(\"Sparse gradient updates are not supported.\")"
   ]
  },
  {
   "cell_type": "code",
   "execution_count": 16,
   "metadata": {},
   "outputs": [],
   "source": [
    "def h_generator_tf(batch_size):\n",
    "    def generate_parametric(n, dv_lambda, name):\n",
    "        params = tf.get_variable(name, dtype='float64', shape=(batch_size, n), initializer=tf.truncated_normal_initializer)\n",
    "        params = tf.cast(params, 'complex128')\n",
    "        places = tf.constant(np.stack([dv_lambda(c) for c in range(n)]), dtype='complex128')\n",
    "        return tf.tensordot(params, places, axes=[1, 0])\n",
    "    \n",
    "\n",
    "    neardiag = lambda i : sp.coo_matrix(\n",
    "        ([1, 1], ([i, (i + 1) % dim], [(i + 1) % dim, i % dim])), shape=(dim, dim)).toarray()\n",
    "\n",
    "    diag = lambda i : sp.coo_matrix(([1], ([i], [i])), shape=(dim, dim)).toarray()\n",
    "    h = generate_parametric(dim - 1, neardiag, 'neardiag') + generate_parametric(dim, diag, 'diag')\n",
    "    \n",
    "    return h\n",
    "\n",
    "def solve_gd_tensorflow(dim, h_generator, source, t):\n",
    "    batch_size = 1\n",
    "    tf.reset_default_graph()\n",
    "    \n",
    "    with tf.device('/cpu:0'):\n",
    "        source = tf.tile(tf.expand_dims(tf.constant(source, dtype='complex128'), axis=0), [batch_size, 1])\n",
    "        target = tf.placeholder(dtype='complex128', shape=(batch_size, dim))\n",
    "\n",
    "        h = h_generator(batch_size)\n",
    "\n",
    "        gate = tf.linalg.expm(1j * h)\n",
    "        estimated_target = tf.matmul(gate, tf.expand_dims(source, 2))\n",
    "\n",
    "        target_dot = tf.matmul(tf.expand_dims(target, 2), estimated_target, adjoint_a=True)\n",
    "        fidelities = tf.abs(target_dot)\n",
    "        loss = 1 - tf.reduce_mean(fidelities)\n",
    "\n",
    "        optimizer = tf.train.MomentumOptimizer(momentum=0.0, learning_rate=2.0)\n",
    "        gradients = optimizer.compute_gradients(loss)\n",
    "        optimize_op = optimizer.minimize(loss)\n",
    "    \n",
    "    fidelities_val = []\n",
    "    states_val = []\n",
    "    gradients_val = []\n",
    "    parameters_val = []\n",
    "    with tf.Session(config=tf.ConfigProto(log_device_placement=True)) as session:\n",
    "        init_op = tf.global_variables_initializer()\n",
    "        session.run(init_op)\n",
    "        with tqdm() as qb:\n",
    "            while len(fidelities_val) < 2 or fidelities_val[-1] < STOP and len(fidelities_val) < 1000:\n",
    "                session.run(optimize_op, feed_dict={target: t})\n",
    "                states_val.append(session.run(estimated_target, feed_dict={target: t}).squeeze())\n",
    "                gradients_val.append(session.run(gradients, feed_dict={target: t}))\n",
    "                parameters_val.append(session.run(h, feed_dict={target: t}).squeeze())\n",
    "                fidelities_val.append(session.run(fidelities, feed_dict={target: t}).squeeze())\n",
    "                qb.update()\n",
    "                qb.set_description(\"fidelity: %f\" % fidelities_val[-1])\n",
    "                \n",
    "    return fidelities_val, states_val, gradients_val, parameters_val"
   ]
  },
  {
   "cell_type": "code",
   "execution_count": 17,
   "metadata": {},
   "outputs": [],
   "source": [
    "def h_generator_np():\n",
    "    \n",
    "    neardiag = lambda i : sp.coo_matrix(\n",
    "        ([1, 1], ([i, (i + 1) % dim], [(i + 1) % dim, i % dim])), shape=(dim, dim)).toarray()\n",
    "\n",
    "    diag = lambda i : sp.coo_matrix(([1], ([i], [i])), shape=(dim, dim)).toarray()\n",
    "    return [neardiag(i) for i in range(dim - 1)] + [diag(i) for i in range(dim)]\n",
    "\n",
    "def solve_monotonic_numpy(dim, h_generator, source, target, start):\n",
    "    opt = lambda h : abs(np.vdot(np.matmul(sc.linalg.expm(1j * h), source), target))\n",
    "    diff = lambda d : (opt(h + eps * d) - opt(h)) / eps\n",
    "\n",
    "    fmax = 1\n",
    "    eps = 0.001\n",
    "    \n",
    "    rate = 2\n",
    "\n",
    "    params = h_generator()\n",
    "    h = start\n",
    "    hd = None\n",
    "    fs = []\n",
    "    states = []\n",
    "    \n",
    "    statemax = 0.4\n",
    "    state = 0.1\n",
    "    with tqdm() as t:\n",
    "        while len(fs) < 2 or fs[-1] < STOP and len(fs) < 1000:\n",
    "            fs.append(opt(h))\n",
    "            df = np.array([diff(p) for p in params])\n",
    "\n",
    "            if np.linalg.norm(df) ** 2 == 0:\n",
    "                print('non-rescue mode')\n",
    "                return None, None, None\n",
    "            \n",
    "            hd = (fmax - fs[-1]) * sum([p * d for p, d in zip(params, df)]) / (np.linalg.norm(df)** 2 + 0.01 * np.linalg.norm(df))\n",
    "            \n",
    "            if opt(h + hd * state) > opt(h) and state < statemax:\n",
    "                state *= rate\n",
    "            if opt(h + hd * state) < opt(h):\n",
    "                    state /= rate\n",
    "\n",
    "\n",
    "            if abs(hd * state).sum() == 0:\n",
    "                print('invalid derivative')\n",
    "                return None, None, None\n",
    "\n",
    "            h += hd * state\n",
    "            states.append(state)\n",
    "            t.update()\n",
    "            t.set_description(\"fidelity: %f\" % fs[-1])\n",
    "    return states, fs, h"
   ]
  },
  {
   "cell_type": "code",
   "execution_count": 18,
   "metadata": {},
   "outputs": [],
   "source": [
    "def solve_normgd_tensorflow(dim, h_generator, source, t):\n",
    "    batch_size = 1\n",
    "    tf.reset_default_graph()\n",
    "    \n",
    "    with tf.device('/cpu:0'):\n",
    "        source = tf.tile(tf.expand_dims(tf.constant(source, dtype='complex128'), axis=0), [batch_size, 1])\n",
    "        target = tf.placeholder(dtype='complex128', shape=(batch_size, dim))\n",
    "\n",
    "        h = h_generator(batch_size)\n",
    "\n",
    "        gate = tf.linalg.expm(1j * h)\n",
    "        estimated_target = tf.matmul(gate, tf.expand_dims(source, 2))\n",
    "\n",
    "        target_dot = tf.matmul(tf.expand_dims(target, 2), estimated_target, adjoint_a=True)\n",
    "        fidelities = tf.abs(target_dot)\n",
    "        loss = 1 - tf.reduce_mean(fidelities)\n",
    "\n",
    "        optimizer = GradientNorm(learning_rate=0.5)\n",
    "        gradients = optimizer.compute_gradients(loss)\n",
    "        optimize_op = optimizer.minimize(loss)\n",
    "    \n",
    "    fidelities_val = []\n",
    "    states_val = []\n",
    "    gradients_val = []\n",
    "    parameters_val = []\n",
    "    with tf.Session(config=tf.ConfigProto(log_device_placement=True)) as session:\n",
    "        init_op = tf.global_variables_initializer()\n",
    "        session.run(init_op)\n",
    "        with tqdm() as qb:\n",
    "            while len(fidelities_val) < 2 or fidelities_val[-1] < STOP and len(fidelities_val) < 1000:\n",
    "                session.run(optimize_op, feed_dict={target: t})\n",
    "                states_val.append(session.run(estimated_target, feed_dict={target: t}).squeeze())\n",
    "                gradients_val.append(session.run(gradients, feed_dict={target: t}))\n",
    "                parameters_val.append(session.run(h, feed_dict={target: t}).squeeze())\n",
    "                fidelities_val.append(session.run(fidelities, feed_dict={target: t}).squeeze())\n",
    "                qb.update()\n",
    "                qb.set_description(\"fidelity: %f\" % fidelities_val[-1])\n",
    "                \n",
    "    return fidelities_val, states_val, gradients_val, parameters_val"
   ]
  },
  {
   "cell_type": "code",
   "execution_count": 19,
   "metadata": {},
   "outputs": [],
   "source": [
    "#def opt(*args):\n",
    "    \n",
    "def solve_dlib(dim, h_generator, source, target, start):\n",
    "    ## todo\n",
    "    opt = lambda h : abs(np.vdot(np.matmul(sc.linalg.expm(1j * h), source), target))\n",
    "    x,y = dlib.find_min_global(holder_table, \n",
    "                           [-10,-10],  # Lower bound constraints on x0 and x1 respectively\n",
    "                           [10,10],    # Upper bound constraints on x0 and x1 respectively\n",
    "                           100)     "
   ]
  },
  {
   "cell_type": "code",
   "execution_count": 31,
   "metadata": {},
   "outputs": [],
   "source": [
    "target = np.random.randn(dim) + 1j * np.random.randn(dim)\n",
    "target /= np.linalg.norm(target)\n",
    "target = np.array([-0.02919952+0.08959294j, -0.02986901+0.07851302j,  0.69559761+0.1860811j, -0.43976627-0.52171588j])\n",
    "#target = np.array((dim - 1) * [0] + [1])\n",
    "\n",
    "source = np.array([1] + (dim - 1) * [0])\n"
   ]
  },
  {
   "cell_type": "code",
   "execution_count": 32,
   "metadata": {},
   "outputs": [
    {
     "data": {
      "application/vnd.jupyter.widget-view+json": {
       "model_id": "4eabab99e4ec42c892f590246f029b31",
       "version_major": 2,
       "version_minor": 0
      },
      "text/plain": [
       "HBox(children=(IntProgress(value=1, bar_style='info', max=1), HTML(value='')))"
      ]
     },
     "metadata": {},
     "output_type": "display_data"
    },
    {
     "name": "stdout",
     "output_type": "stream",
     "text": [
      "\n"
     ]
    }
   ],
   "source": [
    "gdfs, _, dgdfs, hs = solve_gd_tensorflow(dim, h_generator_tf, source, np.expand_dims(target, axis=0))"
   ]
  },
  {
   "cell_type": "code",
   "execution_count": 33,
   "metadata": {
    "scrolled": true
   },
   "outputs": [
    {
     "data": {
      "application/vnd.jupyter.widget-view+json": {
       "model_id": "d565b9bf01bd4b538ef74aa8b4310143",
       "version_major": 2,
       "version_minor": 0
      },
      "text/plain": [
       "HBox(children=(IntProgress(value=1, bar_style='info', max=1), HTML(value='')))"
      ]
     },
     "metadata": {},
     "output_type": "display_data"
    },
    {
     "name": "stdout",
     "output_type": "stream",
     "text": [
      "\n"
     ]
    },
    {
     "data": {
      "application/vnd.jupyter.widget-view+json": {
       "model_id": "dfd0d0974616438ea962c32c9bece040",
       "version_major": 2,
       "version_minor": 0
      },
      "text/plain": [
       "HBox(children=(IntProgress(value=1, bar_style='info', max=1), HTML(value='')))"
      ]
     },
     "metadata": {},
     "output_type": "display_data"
    },
    {
     "name": "stdout",
     "output_type": "stream",
     "text": [
      "\n"
     ]
    }
   ],
   "source": [
    "ngdfs, _, dngdfs, hs = solve_normgd_tensorflow(dim, h_generator_tf, source, np.expand_dims(target, axis=0))\n",
    "states, mfs, h = solve_monotonic_numpy(dim, h_generator_np, source, target,  np.zeros((dim, dim)))\n"
   ]
  },
  {
   "cell_type": "code",
   "execution_count": 23,
   "metadata": {},
   "outputs": [
    {
     "data": {
      "text/plain": [
       "<matplotlib.legend.Legend at 0x7f9266b34ad0>"
      ]
     },
     "execution_count": 23,
     "metadata": {},
     "output_type": "execute_result"
    },
    {
     "data": {
      "image/png": "[encoded data removed]",
      "text/plain": [
       "<Figure size 432x288 with 1 Axes>"
      ]
     },
     "metadata": {
      "needs_background": "light"
     },
     "output_type": "display_data"
    }
   ],
   "source": [
    "plt.plot(gdfs, label='gd_tf')\n",
    "plt.plot(ngdfs, label='normgd_tf')\n",
    "plt.plot(mfs, label='newtongd_np')\n",
    "#plt.plot([-np.log(s)/10 for s in states])\n",
    "\n",
    "plt.legend(loc='lower right')"
   ]
  },
  {
   "cell_type": "code",
   "execution_count": 36,
   "metadata": {},
   "outputs": [
    {
     "data": {
      "text/plain": [
       "<matplotlib.legend.Legend at 0x7f7138067810>"
      ]
     },
     "execution_count": 36,
     "metadata": {},
     "output_type": "execute_result"
    },
    {
     "data": {
      "image/png": "[encoded data removed]",
      "text/plain": [
       "<Figure size 432x288 with 1 Axes>"
      ]
     },
     "metadata": {
      "needs_background": "light"
     },
     "output_type": "display_data"
    }
   ],
   "source": [
    "#plt.plot(gdfs, label='norm_gd')\n",
    "plt.plot(mfs, label='mono_gd')\n",
    "plt.plot([-np.log(s)/10 for s in states])\n",
    "\n",
    "plt.legend(loc='upper left')"
   ]
  },
  {
   "cell_type": "code",
   "execution_count": 55,
   "metadata": {},
   "outputs": [
    {
     "data": {
      "text/plain": [
       "<matplotlib.collections.PathCollection at 0x7f0cb00314d0>"
      ]
     },
     "execution_count": 55,
     "metadata": {},
     "output_type": "execute_result"
    },
    {
     "data": {
      "image/png": "[encoded data removed]",
      "text/plain": [
       "<Figure size 432x288 with 1 Axes>"
      ]
     },
     "metadata": {
      "needs_background": "light"
     },
     "output_type": "display_data"
    }
   ],
   "source": [
    "plt.scatter(gdfs, gddfs, c=range(len(gdfs)))"
   ]
  },
  {
   "cell_type": "code",
   "execution_count": 273,
   "metadata": {},
   "outputs": [],
   "source": [
    "def dynamic_sampling(dim, h_generator, source, target):\n",
    "    opt = lambda h : abs(np.vdot(np.matmul(sc.linalg.expm(1j * h), source), target))\n",
    "    diff = lambda d : (opt(h + eps * d) - opt(h)) / eps\n",
    "    \n",
    "    eps = 0.001\n",
    "    step = 0.01\n",
    "    \n",
    "    samples = 1\n",
    "    opt_samples = 1000\n",
    "    \n",
    "    params = h_generator()\n",
    "    fs = []\n",
    "    dfs = []\n",
    "    for _ in tqdm(range(samples)):\n",
    "        h = sum([p * v for p, v in zip(params, np.random.randn(len(params)))])\n",
    "        with tqdm() as t:\n",
    "            for _ in range(opt_samples):\n",
    "                fs.append(opt(h))\n",
    "                df = np.array([diff(p) for p in params])\n",
    "                dfs.append(np.linalg.norm(df))\n",
    "                \n",
    "                if fs[-1] > 0.99:\n",
    "                    break\n",
    "                    \n",
    "                if np.linalg.norm(df) == 0:\n",
    "                    print('local point')\n",
    "                    df = np.random.randn(len(df))\n",
    "\n",
    "                h += step * sum([p * d for p, d in zip(params, df)]) / (np.linalg.norm(df))\n",
    "                t.update()\n",
    "                t.set_description(\"fidelity: %f\" % fs[-1])\n",
    "    return fs, dfs"
   ]
  },
  {
   "cell_type": "code",
   "execution_count": 274,
   "metadata": {},
   "outputs": [
    {
     "data": {
      "application/vnd.jupyter.widget-view+json": {
       "model_id": "f622571fdd4447adbc59e73e81b069fb",
       "version_major": 2,
       "version_minor": 0
      },
      "text/plain": [
       "HBox(children=(IntProgress(value=0, max=1), HTML(value='')))"
      ]
     },
     "metadata": {},
     "output_type": "display_data"
    },
    {
     "data": {
      "application/vnd.jupyter.widget-view+json": {
       "model_id": "e46f69a240894bdf94b1575429386335",
       "version_major": 2,
       "version_minor": 0
      },
      "text/plain": [
       "HBox(children=(IntProgress(value=1, bar_style='info', max=1), HTML(value='')))"
      ]
     },
     "metadata": {},
     "output_type": "display_data"
    },
    {
     "name": "stdout",
     "output_type": "stream",
     "text": [
      "\n",
      "\n"
     ]
    }
   ],
   "source": [
    "target = np.random.randn(dim) + 1j * np.random.randn(dim)\n",
    "target /= np.linalg.norm(target)\n",
    "fdist, dfdist = dynamic_sampling(dim, h_generator_np, source, target)"
   ]
  },
  {
   "cell_type": "code",
   "execution_count": 275,
   "metadata": {},
   "outputs": [
    {
     "data": {
      "text/plain": [
       "[<matplotlib.lines.Line2D at 0x7ff2a798bfd0>]"
      ]
     },
     "execution_count": 275,
     "metadata": {},
     "output_type": "execute_result"
    },
    {
     "data": {
      "image/png": "[encoded data removed]",
      "text/plain": [
       "<Figure size 432x288 with 1 Axes>"
      ]
     },
     "metadata": {
      "needs_background": "light"
     },
     "output_type": "display_data"
    }
   ],
   "source": [
    "plt.scatter(fdist, dfdist)\n",
    "plt.plot([0,1], [0,0], c='r')"
   ]
  },
  {
   "cell_type": "code",
   "execution_count": 187,
   "metadata": {},
   "outputs": [
    {
     "data": {
      "text/plain": [
       "(0.537297085249586, 0.07827534264085992)"
      ]
     },
     "execution_count": 187,
     "metadata": {},
     "output_type": "execute_result"
    }
   ],
   "source": [
    "max(zip(fdist, dfdist), key=lambda x : x[1])"
   ]
  },
  {
   "cell_type": "code",
   "execution_count": 198,
   "metadata": {},
   "outputs": [
    {
     "data": {
      "text/plain": [
       "0.3128"
      ]
     },
     "execution_count": 198,
     "metadata": {},
     "output_type": "execute_result"
    }
   ],
   "source": [
    "0.0782 / 0.5 ** 2"
   ]
  },
  {
   "cell_type": "code",
   "execution_count": null,
   "metadata": {},
   "outputs": [],
   "source": []
  }
 ],
 "metadata": {
  "kernelspec": {
   "display_name": "Python 3",
   "language": "python",
   "name": "python3"
  },
  "language_info": {
   "codemirror_mode": {
    "name": "ipython",
    "version": 3
   },
   "file_extension": ".py",
   "mimetype": "text/x-python",
   "name": "python",
   "nbconvert_exporter": "python",
   "pygments_lexer": "ipython3",
   "version": "3.7.4"
  }
 },
 "nbformat": 4,
 "nbformat_minor": 2
}
