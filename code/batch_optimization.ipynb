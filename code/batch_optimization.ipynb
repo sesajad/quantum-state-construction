{
 "cells": [
  {
   "cell_type": "markdown",
   "metadata": {},
   "source": [
    "# State Construction Task"
   ]
  },
  {
   "cell_type": "code",
   "execution_count": 4,
   "metadata": {
    "scrolled": true
   },
   "outputs": [],
   "source": [
    "from datetime import datetime\n",
    "import itertools\n",
    "import io\n",
    "\n",
    "import numpy as np\n",
    "import scipy.sparse as sp\n",
    "import scipy as sc\n",
    "import tensorflow as tf\n",
    "\n",
    "from tqdm import tqdm_notebook as tqdm\n",
    "import matplotlib.pyplot as plt"
   ]
  },
  {
   "cell_type": "code",
   "execution_count": 5,
   "metadata": {},
   "outputs": [],
   "source": [
    "dim = 4"
   ]
  },
  {
   "cell_type": "markdown",
   "metadata": {},
   "source": [
    "generates equidistributed points on unit nd-sphere (see [here](https://www.cmu.edu/biolphys/deserno/pdf/sphere_equi.pdf))"
   ]
  },
  {
   "cell_type": "code",
   "execution_count": 6,
   "metadata": {},
   "outputs": [],
   "source": [
    "def equidistributed_points(dim, dist):\n",
    "    with np.errstate(divide='ignore'):\n",
    "        if np.isnan(dist):\n",
    "            dist = 4 * np.pi\n",
    "        if dim == 2:\n",
    "            phis = np.arange(0, 2 * np.pi, dist)\n",
    "            return np.vstack([np.cos(phis), np.sin(phis)])\n",
    "        else:\n",
    "            slices = []\n",
    "            for phi in np.arange(0, np.pi, dist):\n",
    "                proj_points = equidistributed_points(dim - 1, dist / np.sin(phi))\n",
    "                points = np.vstack([np.full((1, proj_points.shape[1]), np.cos(phi)), np.sin(phi) * proj_points])\n",
    "                slices.append(points)\n",
    "            return np.hstack(slices)"
   ]
  },
  {
   "cell_type": "markdown",
   "metadata": {},
   "source": [
    "## solve using Tensorflow"
   ]
  },
  {
   "cell_type": "markdown",
   "metadata": {},
   "source": [
    "parametric hamiltonian generator with `tf.Variable`\n",
    "\n",
    "and a solver"
   ]
  },
  {
   "cell_type": "code",
   "execution_count": 7,
   "metadata": {},
   "outputs": [],
   "source": [
    "class GradientNorm(tf.train.Optimizer):\n",
    "    def __init__(self, learning_rate=0.1, use_locking=False, name=\"GradientNorm\"):\n",
    "        super().__init__(use_locking, name)\n",
    "        self._lr = learning_rate\n",
    "        \n",
    "        # Tensor versions of the constructor arguments, created in _prepare().\n",
    "        self._lr_t = None\n",
    "\n",
    "    def _prepare(self):\n",
    "        self._lr_t = tf.convert_to_tensor(self._lr, name=\"learning_rate\")\n",
    "\n",
    "    def _apply_dense(self, grad, var):\n",
    "        lr_t = tf.cast(self._lr_t, var.dtype.base_dtype)\n",
    "        var_update = tf.assign_sub(var, lr_t * tf.linalg.l2_normalize(grad, axis=1))\n",
    "        \n",
    "        return tf.group(*[var_update])\n",
    "\n",
    "    def _apply_sparse(self, grad, var):\n",
    "        raise NotImplementedError(\"Sparse gradient updates are not supported.\")"
   ]
  },
  {
   "cell_type": "code",
   "execution_count": 27,
   "metadata": {},
   "outputs": [],
   "source": [
    "def h_generator(batch_size):\n",
    "    def generate_parametric(n, dv_lambda, name):\n",
    "        params = tf.get_variable(name, dtype='float64', shape=(batch_size, n), initializer=tf.truncated_normal_initializer)\n",
    "        params = tf.cast(params, 'complex128')\n",
    "        places = tf.constant(np.stack([dv_lambda(c) for c in range(n)]), dtype='complex128')\n",
    "        return tf.tensordot(params, places, axes=[1, 0])\n",
    "    \n",
    "\n",
    "    neardiag = lambda i : sp.coo_matrix(\n",
    "        ([1, 1], ([i, (i + 1) % dim], [(i + 1) % dim, i % dim])), shape=(dim, dim)).toarray()\n",
    "\n",
    "    diag = lambda i : sp.coo_matrix(([1], ([i], [i])), shape=(dim, dim)).toarray()\n",
    "    h = generate_parametric(dim - 1, neardiag, 'neardiag') + generate_parametric(dim, diag, 'diag')\n",
    "    \n",
    "    return h\n",
    "\n",
    "def batch_solve_tensorflow(dim, h_generator, source, targets, batch_size):\n",
    "    tf.reset_default_graph()\n",
    "    \n",
    "    with tf.device('/cpu:0'):\n",
    "        source = tf.tile(tf.expand_dims(tf.constant(source, dtype='complex128'), axis=0), [batch_size, 1])\n",
    "        target = tf.placeholder(dtype='complex128', shape=(batch_size, dim))\n",
    "\n",
    "        h = h_generator(batch_size)\n",
    "\n",
    "        gate = tf.linalg.expm(1j * h)\n",
    "        estimated_target = tf.matmul(gate, tf.expand_dims(source, 2))\n",
    "\n",
    "        target_dot = tf.matmul(tf.expand_dims(target, 2), estimated_target, adjoint_a=True)\n",
    "        fidelities = tf.abs(target_dot)\n",
    "        loss = -tf.reduce_sum(fidelities)\n",
    "        \n",
    "        optimizer = GradientNorm(learning_rate=0.5)\n",
    "        gradients = optimizer.compute_gradients(loss)\n",
    "        optimize_op = optimizer.minimize(loss)\n",
    "\n",
    "    with tf.Session(config=tf.ConfigProto(log_device_placement=True)) as session:\n",
    "        for t in tqdm(targets):\n",
    "            init_op = tf.global_variables_initializer()\n",
    "            session.run(init_op)\n",
    "            for i in range(20): # todo, improve stop\n",
    "                session.run(optimize_op, feed_dict={target: t})\n",
    "\n",
    "            yield session.run(fidelities, feed_dict={target: t})"
   ]
  },
  {
   "cell_type": "markdown",
   "metadata": {},
   "source": [
    "## solve using NumPy"
   ]
  },
  {
   "cell_type": "code",
   "execution_count": 33,
   "metadata": {
    "scrolled": true
   },
   "outputs": [
    {
     "name": "stdout",
     "output_type": "stream",
     "text": [
      "count:  45198\n"
     ]
    },
    {
     "data": {
      "application/vnd.jupyter.widget-view+json": {
       "model_id": "55cd3e43a7b3473cb1855b5bc1c72b35",
       "version_major": 2,
       "version_minor": 0
      },
      "text/plain": [
       "HBox(children=(IntProgress(value=0, max=45), HTML(value='')))"
      ]
     },
     "metadata": {},
     "output_type": "display_data"
    },
    {
     "name": "stdout",
     "output_type": "stream",
     "text": [
      "\n"
     ]
    }
   ],
   "source": [
    "angle = 0.4\n",
    "replica = 2\n",
    "batch_size = 1024\n",
    "\n",
    "source = np.array([1] + [0] * (dim - 1))\n",
    "map_points = equidistributed_points(2 * dim, angle).T\n",
    "targets = map_points[:, :dim] + 1j * map_points[:, dim:]\n",
    "targets_count = targets.shape[0]\n",
    "print('count: ', targets_count * replica)\n",
    "\n",
    "ts = np.repeat(targets, replica, axis=0)\n",
    "if (targets_count * replica) % batch_size:\n",
    "    ts = np.vstack([ts, np.zeros((batch_size - ((targets_count * replica) % batch_size), dim))])\n",
    "ts = np.split(ts, ts.shape[0] // batch_size)\n",
    "\n",
    "res = list(batch_solve_tensorflow(dim, h_generator, source, ts, batch_size))\n",
    "\n",
    "res = np.vstack(res)\n",
    "res = np.squeeze(res)\n",
    "res = res[:targets_count * replica]\n",
    "res = res.reshape((targets_count, replica))\n",
    "fidelities = np.max(res, axis=1)"
   ]
  },
  {
   "cell_type": "code",
   "execution_count": 30,
   "metadata": {},
   "outputs": [
    {
     "name": "stdout",
     "output_type": "stream",
     "text": [
      "d:  0.9210609940028851\n",
      "minimum fidelity:  0.19875607150488508\n",
      "average fidelity:  0.9391040884158373\n",
      "MGF:  0.031105790641502883\n"
     ]
    }
   ],
   "source": [
    "f_min = fidelities.min()\n",
    "d = np.cos(angle)\n",
    "MGF = (np.sqrt(d * f_min) - np.sqrt((1 - d) * (1 - f_min))) ** 2\n",
    "\n",
    "print('d: ', d)\n",
    "print('minimum fidelity: ', f_min)\n",
    "print('average fidelity: ', fidelities.mean())\n",
    "print('MGF: ', MGF)"
   ]
  },
  {
   "cell_type": "code",
   "execution_count": 31,
   "metadata": {
    "scrolled": false
   },
   "outputs": [
    {
     "data": {
      "application/vnd.jupyter.widget-view+json": {
       "model_id": "e479a1068d0f49b7b9e8118319eec940",
       "version_major": 2,
       "version_minor": 0
      },
      "text/plain": [
       "HBox(children=(IntProgress(value=0, max=1), HTML(value='')))"
      ]
     },
     "metadata": {},
     "output_type": "display_data"
    },
    {
     "name": "stdout",
     "output_type": "stream",
     "text": [
      "\n"
     ]
    }
   ],
   "source": [
    "worst = targets[fidelities.argmin(),:]\n",
    "worst = np.repeat(np.expand_dims(worst, axis=0), 1024, axis=0)\n",
    "worst_fidelity = list(batch_solve_tensorflow(dim, h_generator, source, [worst], 1024))[0]"
   ]
  },
  {
   "cell_type": "code",
   "execution_count": 32,
   "metadata": {},
   "outputs": [
    {
     "name": "stdout",
     "output_type": "stream",
     "text": [
      "worst state:  [-0.02919952-0.21578074j -0.02986901+0.13916064j -0.41737021-0.27312877j\n",
      "  0.22360599+0.79594683j]\n"
     ]
    },
    {
     "data": {
      "text/plain": [
       "(array([9.000e+00, 1.000e+00, 0.000e+00, 0.000e+00, 1.000e+00, 0.000e+00,\n",
       "        1.000e+00, 1.000e+00, 0.000e+00, 1.011e+03]),\n",
       " array([0.19089868, 0.27159253, 0.35228639, 0.43298025, 0.51367411,\n",
       "        0.59436797, 0.67506183, 0.75575569, 0.83644955, 0.9171434 ,\n",
       "        0.99783726]),\n",
       " <a list of 10 Patch objects>)"
      ]
     },
     "execution_count": 32,
     "metadata": {},
     "output_type": "execute_result"
    },
    {
     "data": {
      "image/png": "[encoded data removed]",
      "text/plain": [
       "<Figure size 432x288 with 1 Axes>"
      ]
     },
     "metadata": {
      "needs_background": "light"
     },
     "output_type": "display_data"
    }
   ],
   "source": [
    "print('worst state: ', targets[fidelities.argmin(),:])\n",
    "plt.hist(np.squeeze(np.vstack(worst_fidelity)))"
   ]
  },
  {
   "cell_type": "markdown",
   "metadata": {},
   "source": [
    "implement heisenberg model"
   ]
  },
  {
   "cell_type": "code",
   "execution_count": 94,
   "metadata": {},
   "outputs": [],
   "source": [
    "basis = [0b100, 0b010, 0b001]\n",
    "\n",
    "# external field\n",
    "diag = lambda i : np.diag([(b >> i) & 1 for b in basis])\n",
    "\n",
    "# coupling\n",
    "def nondiag(i):\n",
    "    [[if (a ^ b) >> for b in basis] for a in basis]\n",
    "            "
   ]
  },
  {
   "cell_type": "code",
   "execution_count": null,
   "metadata": {},
   "outputs": [],
   "source": [
    "def h_generator(batch_size):\n",
    "    def generate_parametric(n, dv_lambda, name):\n",
    "        params = tf.get_variable(name, dtype='float64', shape=(batch_size, n), initializer=tf.truncated_normal_initializer)\n",
    "        params = tf.cast(params, 'complex128')\n",
    "        places = tf.constant(np.stack([dv_lambda(c) for c in range(n)]), dtype='complex128')\n",
    "        return tf.tensordot(params, places, axes=[1, 0])\n",
    "    \n",
    "\n",
    "    neardiag = lambda i : sp.coo_matrix(\n",
    "        ([1, 1], ([i, (i + 1) % dim], [(i + 1) % dim, i % dim])), shape=(dim, dim)).toarray()\n",
    "\n",
    "    diag = lambda i : sp.coo_matrix(([1], ([i], [i])), shape=(dim, dim)).toarray()\n",
    "    h = generate_parametric(dim - 1, neardiag, 'neardiag') + generate_parametric(dim, diag, 'diag')\n",
    "    \n",
    "    return h"
   ]
  }
 ],
 "metadata": {
  "kernelspec": {
   "display_name": "Python 3",
   "language": "python",
   "name": "python3"
  },
  "language_info": {
   "codemirror_mode": {
    "name": "ipython",
    "version": 3
   },
   "file_extension": ".py",
   "mimetype": "text/x-python",
   "name": "python",
   "nbconvert_exporter": "python",
   "pygments_lexer": "ipython3",
   "version": "3.7.4"
  }
 },
 "nbformat": 4,
 "nbformat_minor": 2
}
