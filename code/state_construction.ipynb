{
 "cells": [
  {
   "cell_type": "markdown",
   "metadata": {},
   "source": [
    "# State Construction Task"
   ]
  },
  {
   "cell_type": "code",
   "execution_count": 12,
   "metadata": {
    "scrolled": false
   },
   "outputs": [],
   "source": [
    "from datetime import datetime\n",
    "import itertools\n",
    "import io\n",
    "\n",
    "import numpy as np\n",
    "import scipy.sparse as sp\n",
    "import tensorflow as tf\n",
    "\n",
    "from tqdm import tqdm\n",
    "import matplotlib.pyplot as plt"
   ]
  },
  {
   "cell_type": "markdown",
   "metadata": {},
   "source": [
    "generates equidistributed points on unit nd-sphere (see [here](https://www.cmu.edu/biolphys/deserno/pdf/sphere_equi.pdf))"
   ]
  },
  {
   "cell_type": "code",
   "execution_count": 1,
   "metadata": {},
   "outputs": [],
   "source": [
    "def equidistributed_points(dim, approx_N):\n",
    "    a = 4*np.pi / approx_N\n",
    "    d = np.sqrt(a)\n",
    "    m_theta = np.round(np.pi / d)\n",
    "    d_theta = np.pi / m_theta\n",
    "    d_phi = a / d_theta\n",
    "    for t in range(m_theta):\n",
    "        theta = (t + 0.5) * d_theta\n",
    "        m_phi = round(2 * np.pi * sin(theta) / d_phi)\n",
    "        for p in range(m_phi):\n",
    "            phi = 2 * np.pi * p / m_phi\n",
    "            yield (theta, phi)"
   ]
  },
  {
   "cell_type": "code",
   "execution_count": null,
   "metadata": {},
   "outputs": [],
   "source": [
    "equi"
   ]
  },
  {
   "cell_type": "markdown",
   "metadata": {},
   "source": [
    "generate a parametric hamiltonian with `tf.Variable`"
   ]
  },
  {
   "cell_type": "code",
   "execution_count": 3,
   "metadata": {},
   "outputs": [],
   "source": [
    "def generate_hamiltonain(dim):\n",
    "    def generate_parametric(n, dv_lambda):\n",
    "        params = tf.cast(tf.Variable(tf.random_normal((n, ))), 'complex128')\n",
    "        places = tf.constant(np.stack([dv_lambda(c) for c in range(n)]), dtype='complex128')\n",
    "        return tf.tensordot(places, params, axes=[0, 0])\n",
    "    \n",
    "\n",
    "    neardiag = lambda i : sp.coo_matrix(\n",
    "        ([1, 1], ([i, (i + 1) % dim], [(i + 1) % dim, i % dim])), shape=(dim, dim)).toarray()\n",
    "\n",
    "    diag = lambda i : sp.coo_matrix(([1], ([i], [i])), shape=(dim, dim)).toarray()\n",
    "    h = generate_parametric(dim - 1, neardiag) + generate_parametric(dim, diag)\n",
    "    \n",
    "    return h"
   ]
  },
  {
   "cell_type": "markdown",
   "metadata": {},
   "source": [
    "implement the optimization problem as a computation graph"
   ]
  },
  {
   "cell_type": "code",
   "execution_count": 4,
   "metadata": {},
   "outputs": [],
   "source": [
    "def generate_graph(dim):\n",
    "    source = tf.constant(np.array([1] + [0] * (dim - 1)), dtype='complex128')\n",
    "    target_vec = np.random.normal(size=(dim,)) + 1j * np.random.normal(size=(dim,)) \n",
    "    target_vec /= np.linalg.norm(target_vec)\n",
    "    target= tf.constant(target_vec, dtype='complex128')\n",
    "\n",
    "    h = generate_hamiltonain(dim)\n",
    "    gate = tf.linalg.expm(1j * h)\n",
    "    estimated_target = tf.matmul(gate, tf.expand_dims(source, 1))\n",
    "\n",
    "    target_dot = tf.matmul(tf.expand_dims(target, 1), estimated_target, adjoint_a=True)\n",
    "    fidelity = tf.abs(target_dot)\n",
    "    loss = 1 - fidelity\n",
    "\n",
    "    summary_op = tf.summary.scalar('fidelity', fidelity)\n",
    "    optimize_op = tf.train.MomentumOptimizer(momentum=0.8,learning_rate=0.5).minimize(loss)\n",
    "    return optimize_op, fidelity"
   ]
  },
  {
   "cell_type": "markdown",
   "metadata": {},
   "source": [
    "storing metrics (using tensorboard)"
   ]
  },
  {
   "cell_type": "code",
   "execution_count": 5,
   "metadata": {},
   "outputs": [],
   "source": [
    "def plot_matrix(h):\n",
    "    figure = plt.figure(figsize=(8, 8))\n",
    "    plt.imshow(h, interpolation='nearest', cmap=plt.cm.Blues)\n",
    "    plt.title(\"Matrix\")\n",
    "    plt.colorbar()\n",
    "\n",
    "    threshold = h.max() / 2.\n",
    "    for i, j in itertools.product(range(h.shape[0]), range(h.shape[1])):\n",
    "        color = \"white\" if h[i, j] > threshold else \"black\"\n",
    "        plt.text(j, i, h[i, j], horizontalalignment=\"center\", color=color)\n",
    "\n",
    "    plt.tight_layout()\n",
    "    return figure\n",
    "\n",
    "def plot_to_image(figure):\n",
    "    buf = io.BytesIO()\n",
    "    plt.savefig(buf, format='png')\n",
    "    plt.close(figure)\n",
    "    buf.seek(0)\n",
    "    image = tf.image.decode_png(buf.getvalue(), channels=4)\n",
    "    image = tf.expand_dims(image, 0)\n",
    "    return image"
   ]
  },
  {
   "cell_type": "markdown",
   "metadata": {},
   "source": [
    "run the whole"
   ]
  },
  {
   "cell_type": "code",
   "execution_count": 6,
   "metadata": {
    "scrolled": true
   },
   "outputs": [
    {
     "name": "stderr",
     "output_type": "stream",
     "text": [
      "  0%|          | 0/100 [00:00<?, ?it/s]WARNING: Logging before flag parsing goes to stderr.\n",
      "W0814 16:14:52.734215 140268744074880 deprecation.py:323] From /home/sajad/Works/Quantum/quantum-state-construction/venv/lib/python3.7/site-packages/tensorflow/python/ops/linalg/linalg_impl.py:280: add_dispatch_support.<locals>.wrapper (from tensorflow.python.ops.array_ops) is deprecated and will be removed in a future version.\n",
      "Instructions for updating:\n",
      "Use tf.where in 2.0, which has the same broadcast rule as np.where\n",
      "100%|██████████| 100/100 [08:34<00:00,  6.96s/it]\n"
     ]
    }
   ],
   "source": [
    "folder = './tensorboard_logs/%s' % datetime.now().isoformat()\n",
    "dim = 8\n",
    "fs = []\n",
    "tf.reset_default_graph()\n",
    "with tf.Session() as session:\n",
    "    for _ in tqdm(range(100)):\n",
    "        optimize_op, fidelity_op = generate_graph(dim)\n",
    "        init_op = tf.global_variables_initializer()\n",
    "        session.run(init_op)2\n",
    "        for i in range(5000):\n",
    "            _, f = session.run([optimize_op, fidelity_op])\n",
    "        fs.append(f)"
   ]
  },
  {
   "cell_type": "code",
   "execution_count": 11,
   "metadata": {},
   "outputs": [
    {
     "data": {
      "text/plain": [
       "(array([ 2.,  0.,  1.,  0.,  3.,  7.,  3.,  8., 20., 56.]),\n",
       " array([0.93851374, 0.94466237, 0.95081099, 0.95695962, 0.96310825,\n",
       "        0.96925687, 0.9754055 , 0.98155412, 0.98770275, 0.99385137,\n",
       "        1.        ]),\n",
       " <a list of 10 Patch objects>)"
      ]
     },
     "execution_count": 11,
     "metadata": {},
     "output_type": "execute_result"
    },
    {
     "data": {
      "image/png": "[encoded data removed]",
      "text/plain": [
       "<Figure size 432x288 with 1 Axes>"
      ]
     },
     "metadata": {
      "needs_background": "light"
     },
     "output_type": "display_data"
    }
   ],
   "source": [
    "plt.hist([float(f) for f in fs])"
   ]
  },
  {
   "cell_type": "code",
   "execution_count": null,
   "metadata": {},
   "outputs": [],
   "source": []
  }
 ],
 "metadata": {
  "kernelspec": {
   "display_name": "Python 3",
   "language": "python",
   "name": "python3"
  },
  "language_info": {
   "codemirror_mode": {
    "name": "ipython",
    "version": 3
   },
   "file_extension": ".py",
   "mimetype": "text/x-python",
   "name": "python",
   "nbconvert_exporter": "python",
   "pygments_lexer": "ipython3",
   "version": "3.7.4"
  }
 },
 "nbformat": 4,
 "nbformat_minor": 2
}
