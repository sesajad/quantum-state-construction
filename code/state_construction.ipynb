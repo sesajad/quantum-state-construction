{
 "cells": [
  {
   "cell_type": "markdown",
   "metadata": {},
   "source": [
    "# State Construction Task"
   ]
  },
  {
   "cell_type": "code",
   "execution_count": 37,
   "metadata": {
    "scrolled": false
   },
   "outputs": [],
   "source": [
    "from datetime import datetime\n",
    "import itertools\n",
    "import io\n",
    "\n",
    "import numpy as np\n",
    "import scipy.sparse as sp\n",
    "import tensorflow as tf\n",
    "\n",
    "from tqdm import tqdm"
   ]
  },
  {
   "cell_type": "markdown",
   "metadata": {},
   "source": [
    "generates equidistributed points on unit nd-sphere (see [here](https://www.cmu.edu/biolphys/deserno/pdf/sphere_equi.pdf))"
   ]
  },
  {
   "cell_type": "code",
   "execution_count": 39,
   "metadata": {},
   "outputs": [],
   "source": [
    "def equidistributed_points(dim, dist):\n",
    "    with np.errstate(divide='ignore'):\n",
    "        if np.isnan(dist):\n",
    "            dist = 4 * np.pi\n",
    "        if dim == 2:\n",
    "            phis = np.arange(0, 2 * np.pi, dist)\n",
    "            return np.vstack([np.cos(phis), np.sin(phis)])\n",
    "        else:\n",
    "            slices = []\n",
    "            for phi in np.arange(0, np.pi, dist):\n",
    "                proj_points = equidistributed_points(dim - 1, dist / np.sin(phi))\n",
    "                points = np.vstack([np.full((1, proj_points.shape[1]), np.cos(phi)), np.sin(phi) * proj_points])\n",
    "                slices.append(points)\n",
    "            return np.hstack(slices)"
   ]
  },
  {
   "cell_type": "markdown",
   "metadata": {},
   "source": [
    "## solve using Tensorflow"
   ]
  },
  {
   "cell_type": "markdown",
   "metadata": {},
   "source": [
    "parametric hamiltonian generator with `tf.Variable`"
   ]
  },
  {
   "cell_type": "code",
   "execution_count": 40,
   "metadata": {},
   "outputs": [],
   "source": [
    "dim = 2\n",
    "\n",
    "def h_generator():\n",
    "    def generate_parametric(n, dv_lambda, name):\n",
    "        params = tf.get_variable(name, dtype='float64', shape=(n, ), initializer=tf.truncated_normal_initializer)\n",
    "        params = tf.cast(params, 'complex128')\n",
    "        places = tf.constant(np.stack([dv_lambda(c) for c in range(n)]), dtype='complex128')\n",
    "        return tf.tensordot(places, params, axes=[0, 0])\n",
    "    \n",
    "\n",
    "    neardiag = lambda i : sp.coo_matrix(\n",
    "        ([1, 1], ([i, (i + 1) % dim], [(i + 1) % dim, i % dim])), shape=(dim, dim)).toarray()\n",
    "\n",
    "    diag = lambda i : sp.coo_matrix(([1], ([i], [i])), shape=(dim, dim)).toarray()\n",
    "    h = generate_parametric(dim - 1, neardiag, 'neardiag') + generate_parametric(dim, diag, 'diag')\n",
    "    \n",
    "    return h"
   ]
  },
  {
   "cell_type": "markdown",
   "metadata": {},
   "source": [
    "design own solver"
   ]
  },
  {
   "cell_type": "code",
   "execution_count": 44,
   "metadata": {},
   "outputs": [],
   "source": [
    "def batch_solve_tensorflow(dim, h_generator, source, targets):\n",
    "    tf.reset_default_graph()\n",
    "\n",
    "    source = tf.constant(source, dtype='complex128')\n",
    "    target = tf.placeholder(dtype='complex128', shape=(dim, ))\n",
    "\n",
    "    h = h_generator()\n",
    "    gate = tf.linalg.expm(1j * h)\n",
    "    estimated_target = tf.matmul(gate, tf.expand_dims(source, 1))\n",
    "\n",
    "    target_dot = tf.matmul(tf.expand_dims(target, 1), estimated_target, adjoint_a=True)\n",
    "    fidelity = tf.abs(target_dot)\n",
    "    loss = 1 - fidelity\n",
    "\n",
    "    summary_op = tf.summary.scalar('fidelity', fidelity)\n",
    "    optimize_op = tf.train.MomentumOptimizer(momentum=0.8,learning_rate=0.5).minimize(loss)\n",
    "    \n",
    "    fidelities = []\n",
    "    with tf.Session() as session:\n",
    "        init_op = tf.global_variables_initializer()\n",
    "        for t in tqdm(targets):\n",
    "            session.run(init_op)\n",
    "            for i in range(5000): # todo, improve stop\n",
    "                session.run(optimize_op, feed_dict={target: t})\n",
    "            fidelities.append(session.run(fidelity, feed_dict={target: t}))\n",
    "    \n",
    "    return min(fidelities)"
   ]
  },
  {
   "cell_type": "code",
   "execution_count": 45,
   "metadata": {
    "scrolled": true
   },
   "outputs": [
    {
     "name": "stderr",
     "output_type": "stream",
     "text": [
      "100%|██████████| 332/332 [29:46<00:00,  5.38s/it]\n"
     ]
    },
    {
     "data": {
      "text/plain": [
       "array([[0.99463484]])"
      ]
     },
     "execution_count": 45,
     "metadata": {},
     "output_type": "execute_result"
    }
   ],
   "source": [
    "angle = 0.1\n",
    "\n",
    "source = np.array([1] + [0] * (dim - 1))\n",
    "targets = list(equidistributed_points(dim, angle).T)\n",
    "min_match = batch_solve_tensorflow(dim, h_generator, source, targets)\n",
    "MGF = min_match * np.cos(angle)\n",
    "print(MGF)"
   ]
  },
  {
   "cell_type": "code",
   "execution_count": null,
   "metadata": {},
   "outputs": [],
   "source": []
  }
 ],
 "metadata": {
  "kernelspec": {
   "display_name": "Python 3",
   "language": "python",
   "name": "python3"
  },
  "language_info": {
   "codemirror_mode": {
    "name": "ipython",
    "version": 3
   },
   "file_extension": ".py",
   "mimetype": "text/x-python",
   "name": "python",
   "nbconvert_exporter": "python",
   "pygments_lexer": "ipython3",
   "version": "3.7.4"
  }
 },
 "nbformat": 4,
 "nbformat_minor": 2
}
