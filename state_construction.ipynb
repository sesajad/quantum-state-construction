{
 "cells": [
  {
   "cell_type": "markdown",
   "metadata": {},
   "source": [
    "# State Construction Task"
   ]
  },
  {
   "cell_type": "code",
   "execution_count": 173,
   "metadata": {
    "scrolled": false
   },
   "outputs": [],
   "source": [
    "from datetime import datetime\n",
    "import itertools\n",
    "import io\n",
    "\n",
    "import numpy as np\n",
    "import scipy.sparse as sp\n",
    "import tensorflow as tf\n",
    "\n",
    "from tqdm import tqdm\n",
    "import matplotlib.pyplot as plt"
   ]
  },
  {
   "cell_type": "markdown",
   "metadata": {},
   "source": [
    "simple utilities for complex mapping"
   ]
  },
  {
   "cell_type": "code",
   "execution_count": 174,
   "metadata": {},
   "outputs": [],
   "source": [
    "def encode(t):\n",
    "    if t.ndim == 1:\n",
    "        t = np.expand_dims(t, axis=-1)\n",
    "    return np.vstack([np.hstack([t.real, -t.imag]),\n",
    "        np.hstack([t.imag, t.real])])\n",
    "\n",
    "def decode_shape(shape):\n",
    "    assert(shape[0] % 2 == 0 and shape[1] % 2 == 0)\n",
    "    return (shape[0] // 2, shape[1] // 2) + shape[2:]\n",
    "\n",
    "def decode(t):\n",
    "    rshape = decode_shape(t.shape)\n",
    "    r = t[0:rshape[0], 0:rshape[1]] + 1j * t[rshape[0]:2 * rshape[0], 0:rshape[1]]\n",
    "    if r.ndim == 2 and rshape[1] == 1:\n",
    "        r = r[:, 0]\n",
    "    return r\n"
   ]
  },
  {
   "cell_type": "markdown",
   "metadata": {},
   "source": [
    "generate a parametric hamiltonian with `tf.Variable`"
   ]
  },
  {
   "cell_type": "code",
   "execution_count": 175,
   "metadata": {},
   "outputs": [],
   "source": [
    "def generate_hamiltonain(dim):\n",
    "    def generate_parametric(n, dv_lambda):\n",
    "        params = tf.Variable(tf.random_normal((n, )))\n",
    "        places = tf.constant(np.stack([dv_lambda(c) for c in range(n)]), dtype='float32')\n",
    "        return tf.tensordot(places, params, axes=[0, 0])\n",
    "    \n",
    "\n",
    "    neardiag = lambda i : encode(sp.coo_matrix(\n",
    "        ([1, 1], ([i, (i + 1) % dim], [(i + 1) % dim, i % dim])), shape=(dim, dim)).toarray())\n",
    "\n",
    "    diag = lambda i : encode(sp.coo_matrix(([1], ([i], [i])), shape=(dim, dim)).toarray())\n",
    "    h = generate_parametric(dim - 1, neardiag) + generate_parametric(dim, diag)\n",
    "    \n",
    "    return h"
   ]
  },
  {
   "cell_type": "markdown",
   "metadata": {},
   "source": [
    "implement the optimization problem as a computation graph"
   ]
  },
  {
   "cell_type": "code",
   "execution_count": 176,
   "metadata": {},
   "outputs": [],
   "source": [
    "def generate_graph(dim):\n",
    "    source = tf.constant(encode(np.array([1] + [0] * (dim - 1))), dtype='float32')\n",
    "    target_vec = np.random.normal(size=(dim,)) \n",
    "    target_vec /= np.linalg.norm(target_vec)\n",
    "    target= tf.constant(encode(target_vec), dtype='float32')\n",
    "\n",
    "    i_mat = tf.constant(encode(1j * np.eye(dim)), dtype='float32')\n",
    "    h = generate_hamiltonain(dim)\n",
    "    gate = tf.linalg.expm(tf.matmul(i_mat, h))\n",
    "    estimated_target = tf.matmul(gate, source)\n",
    "\n",
    "    target_dot = tf.matmul(tf.transpose(target), estimated_target)\n",
    "    fidelity = tf.sqrt(2 * tf.reduce_mean(tf.matmul(tf.transpose(target_dot), target_dot)))\n",
    "    loss = 1 - fidelity\n",
    "\n",
    "    summary_op = tf.summary.scalar('fidelity', fidelity)\n",
    "    optimize_op = tf.train.MomentumOptimizer(momentum=0.8,learning_rate=0.5).minimize(loss)\n",
    "    return optimize_op, summary_op"
   ]
  },
  {
   "cell_type": "markdown",
   "metadata": {},
   "source": [
    "storing metrics (using tensorboard)"
   ]
  },
  {
   "cell_type": "code",
   "execution_count": 170,
   "metadata": {},
   "outputs": [],
   "source": [
    "def plot_matrix(h):\n",
    "    figure = plt.figure(figsize=(8, 8))\n",
    "    plt.imshow(h, interpolation='nearest', cmap=plt.cm.Blues)\n",
    "    plt.title(\"Matrix\")\n",
    "    plt.colorbar()\n",
    "\n",
    "    threshold = h.max() / 2.\n",
    "    for i, j in itertools.product(range(h.shape[0]), range(h.shape[1])):\n",
    "        color = \"white\" if h[i, j] > threshold else \"black\"\n",
    "        plt.text(j, i, h[i, j], horizontalalignment=\"center\", color=color)\n",
    "\n",
    "    plt.tight_layout()\n",
    "    return figure\n",
    "\n",
    "def plot_to_image(figure):\n",
    "    buf = io.BytesIO()\n",
    "    plt.savefig(buf, format='png')\n",
    "    plt.close(figure)\n",
    "    buf.seek(0)\n",
    "    image = tf.image.decode_png(buf.getvalue(), channels=4)\n",
    "    image = tf.expand_dims(image, 0)\n",
    "    return image"
   ]
  },
  {
   "cell_type": "markdown",
   "metadata": {},
   "source": [
    "run the whole"
   ]
  },
  {
   "cell_type": "code",
   "execution_count": null,
   "metadata": {},
   "outputs": [],
   "source": []
  },
  {
   "cell_type": "code",
   "execution_count": 183,
   "metadata": {
    "scrolled": true
   },
   "outputs": [
    {
     "name": "stderr",
     "output_type": "stream",
     "text": [
      "100%|██████████| 5000/5000 [00:02<00:00, 2220.31it/s]\n",
      "100%|██████████| 5000/5000 [00:02<00:00, 1831.99it/s]\n",
      "100%|██████████| 5000/5000 [00:03<00:00, 1550.09it/s]\n",
      "100%|██████████| 5000/5000 [00:04<00:00, 1008.71it/s]\n"
     ]
    }
   ],
   "source": [
    "folder = './tensorboard_logs/%s' % datetime.now().isoformat()\n",
    "\n",
    "tf.reset_default_graph()\n",
    "with tf.Session() as session:\n",
    "    \n",
    "    for dim in [4, 8, 16, 32]:\n",
    "        optimize_op, summary_op = generate_graph(dim)\n",
    "        writer = tf.summary.FileWriter(folder + '/%d' % dim, session.graph)\n",
    "        init_op = tf.global_variables_initializer()\n",
    "        session.run(init_op)\n",
    "        for i in tqdm(range(5000)):\n",
    "            _, summary_val = session.run([optimize_op, summary_op])\n",
    "            writer.add_summary(summary_val, i)"
   ]
  },
  {
   "cell_type": "code",
   "execution_count": null,
   "metadata": {},
   "outputs": [],
   "source": []
  }
 ],
 "metadata": {
  "kernelspec": {
   "display_name": "Python 3",
   "language": "python",
   "name": "python3"
  },
  "language_info": {
   "codemirror_mode": {
    "name": "ipython",
    "version": 3
   },
   "file_extension": ".py",
   "mimetype": "text/x-python",
   "name": "python",
   "nbconvert_exporter": "python",
   "pygments_lexer": "ipython3",
   "version": "3.7.3"
  }
 },
 "nbformat": 4,
 "nbformat_minor": 2
}
